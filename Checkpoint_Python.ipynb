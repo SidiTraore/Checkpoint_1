{
 "cells": [
  {
   "cell_type": "markdown",
   "id": "c84390b7",
   "metadata": {},
   "source": [
    "# Question_1"
   ]
  },
  {
   "cell_type": "code",
   "execution_count": null,
   "id": "8dcc58e0",
   "metadata": {},
   "outputs": [],
   "source": [
    "list(filter(lambda x : x%7 == 0 and x%5 != 0, [x for x in range(2000,3201)]))"
   ]
  },
  {
   "cell_type": "markdown",
   "id": "de4edfd3",
   "metadata": {},
   "source": [
    "# Question_2"
   ]
  },
  {
   "cell_type": "code",
   "execution_count": 25,
   "id": "7b0949ce",
   "metadata": {},
   "outputs": [
    {
     "data": {
      "text/plain": [
       "40320"
      ]
     },
     "execution_count": 25,
     "metadata": {},
     "output_type": "execute_result"
    }
   ],
   "source": [
    "def factorial(x = 8):\n",
    "    if x==0 or x == 1 :\n",
    "        return 1\n",
    "    else :\n",
    "        return x*factorial(x-1)\n",
    "    \n",
    "factorial()"
   ]
  },
  {
   "cell_type": "markdown",
   "id": "3c9f02f0",
   "metadata": {},
   "source": [
    "# Question_3"
   ]
  },
  {
   "cell_type": "code",
   "execution_count": 24,
   "id": "f1517740",
   "metadata": {},
   "outputs": [
    {
     "data": {
      "text/plain": [
       "{0: 0, 1: 1, 2: 4, 3: 9, 4: 16, 5: 25, 6: 36}"
      ]
     },
     "execution_count": 24,
     "metadata": {},
     "output_type": "execute_result"
    }
   ],
   "source": [
    "def dictionary(x = 6):\n",
    "    return {i:i*i for i in range(x+1)}\n",
    "\n",
    "\n",
    "dictionary()\n"
   ]
  },
  {
   "cell_type": "markdown",
   "id": "73d553c5",
   "metadata": {},
   "source": [
    "# Question_4"
   ]
  },
  {
   "cell_type": "code",
   "execution_count": 20,
   "id": "fb969f76",
   "metadata": {},
   "outputs": [
    {
     "name": "stdout",
     "output_type": "stream",
     "text": [
      "['p', 'a', 'p', 's']\n"
     ]
    }
   ],
   "source": [
    "def missing_char(x ='bobo', n = 0):\n",
    "    \n",
    "    if type(x)==int:\n",
    "        x = str(x)\n",
    "        \n",
    "    x,n = list(x), int(n)\n",
    "    \n",
    "    if n in range(0, len(x)):\n",
    "        x.pop(n)\n",
    "        print(x)\n",
    "    else  :\n",
    "        print('Your value of n is inadapted. Would you choose an adapted one ? ')\n",
    "  \n",
    "\n",
    "missing_char('papus',3)\n",
    "    "
   ]
  },
  {
   "cell_type": "markdown",
   "id": "1c173d53",
   "metadata": {},
   "source": [
    "# Question_5"
   ]
  },
  {
   "cell_type": "code",
   "execution_count": 10,
   "id": "32ad4e94",
   "metadata": {},
   "outputs": [
    {
     "name": "stdout",
     "output_type": "stream",
     "text": [
      "#Array\n",
      " [[0 1]\n",
      " [6 3]\n",
      " [7 5]]\n",
      "#List\n",
      " [[0, 1], [6, 3], [7, 5]]\n"
     ]
    }
   ],
   "source": [
    "import numpy as np\n",
    "\n",
    "def array_to_list(x = np.array([[0, 1],[2, 3],[4, 5]])):\n",
    "    x = np.array(x)\n",
    "    print('#Array\\n',x)\n",
    "    x = x.tolist()\n",
    "    print('#List\\n',x)\n",
    "    \n",
    "array_to_list([[0, 1],[6, 3],[7, 5]])"
   ]
  },
  {
   "cell_type": "markdown",
   "id": "c924111d",
   "metadata": {},
   "source": [
    "# Question_6"
   ]
  },
  {
   "cell_type": "code",
   "execution_count": 13,
   "id": "5d0c4616",
   "metadata": {},
   "outputs": [
    {
     "name": "stdout",
     "output_type": "stream",
     "text": [
      "[[ 1. -1.]\n",
      " [-1.  1.]]\n"
     ]
    }
   ],
   "source": [
    "import numpy as np\n",
    "\n",
    "def covariance(x = np.array([0,1,2]), y = np.array([2,1,0])):\n",
    "    print(np.cov(x,y))\n",
    "    \n",
    "covariance()"
   ]
  },
  {
   "cell_type": "markdown",
   "id": "f389ceef",
   "metadata": {},
   "source": [
    "# Question_7"
   ]
  },
  {
   "cell_type": "code",
   "execution_count": 25,
   "id": "f3b111f2",
   "metadata": {},
   "outputs": [
    {
     "name": "stdout",
     "output_type": "stream",
     "text": [
      "Enter any value: 100,150,180\n",
      "[100, 150, 180]\n",
      "[18, 22, 24]\n"
     ]
    }
   ],
   "source": [
    "import numpy as np\n",
    "\n",
    "\n",
    "def calculus(D):\n",
    "    arr, Q = [0],[]\n",
    "    C,H = 50,30\n",
    "    \n",
    "    for i in range(0,len(D)):\n",
    "        if D[i]!=',':\n",
    "            n = len(arr)-1\n",
    "            arr[n] = int(D[i]) + arr[n]*(10) \n",
    "        elif D[i]==',':\n",
    "            arr.append(0)\n",
    "    print(arr)\n",
    "    \n",
    "    for j in range(0,len(arr)):\n",
    "        \n",
    "        y = np.sqrt((2*C*arr[j])/H)\n",
    "        Q.append(int(y))\n",
    "                 \n",
    "    print(Q)\n",
    "\n",
    "\n",
    "D = input('Enter any value: ')\n",
    "calculus(D)"
   ]
  },
  {
   "cell_type": "code",
   "execution_count": null,
   "id": "f8786daa",
   "metadata": {},
   "outputs": [],
   "source": []
  }
 ],
 "metadata": {
  "kernelspec": {
   "display_name": "Python 3 (ipykernel)",
   "language": "python",
   "name": "python3"
  },
  "language_info": {
   "codemirror_mode": {
    "name": "ipython",
    "version": 3
   },
   "file_extension": ".py",
   "mimetype": "text/x-python",
   "name": "python",
   "nbconvert_exporter": "python",
   "pygments_lexer": "ipython3",
   "version": "3.8.11"
  }
 },
 "nbformat": 4,
 "nbformat_minor": 5
}
